{
 "cells": [
  {
   "cell_type": "markdown",
   "id": "6d87a9d4",
   "metadata": {},
   "source": [
    "# Calculating z scores for VM subjects"
   ]
  },
  {
   "cell_type": "code",
   "execution_count": 1,
   "id": "61e4f65a",
   "metadata": {},
   "outputs": [
    {
     "name": "stdout",
     "output_type": "stream",
     "text": [
      "Group Names: dict_keys(['26 weeks', '30 weeks', '32 weeks', '33 weeks', 'Other'])\n",
      "                   subject_name     ga   average  z_scores\n",
      "11      sub-CC00877XX20_ses-820  26.43  0.121939 -0.889396\n",
      "19     sub-CC00898XX25_ses-6231  26.43  0.156477  1.149581\n",
      "33    sub-CC00922XX15_ses-11630  25.71  0.120755 -0.959286\n",
      "54    sub-CC00960XX12_ses-23130  25.71  0.135172 -0.108172\n",
      "62    sub-CC00973XX17_ses-29930  25.57  0.128697 -0.490435\n",
      "75    sub-CC01001XX03_ses-39230  25.86  0.140154  0.185950\n",
      "77    sub-CC01008XX10_ses-47430  26.14  0.150669  0.806735\n",
      "90    sub-CC01029XX15_ses-59630  26.14  0.111563 -1.501919\n",
      "113   sub-CC01089XX18_ses-72630  26.14  0.126478 -0.621413\n",
      "124   sub-CC01114XX09_ses-82430  26.29  0.131158 -0.345144\n",
      "125   sub-CC01115XX10_ses-87031  25.71  0.140687  0.217426\n",
      "126   sub-CC01118XX13_ses-87631  25.86  0.123964 -0.769854\n",
      "127   sub-CC01119XX14_ses-92230  26.29  0.151474  0.854224\n",
      "139   sub-CC01138XX17_ses-95030  25.86  0.133964 -0.179452\n",
      "145  sub-CC01147XX18_ses-101330  26.14  0.139452  0.144498\n",
      "153  sub-CC01162XX08_ses-113830  26.43  0.129628 -0.435480\n",
      "185  sub-CC01250XX05_ses-166930  25.86  0.186840  2.942137\n"
     ]
    }
   ],
   "source": [
    "import os\n",
    "import pandas as pd\n",
    "from scipy.stats import zscore\n",
    "import matplotlib.pyplot as plt\n",
    "\n",
    "# Set current working directory\n",
    "os.chdir('C:/Users/amu_k/subjects-mri-dwi/pre-processing-files/extracted-lab-regions')\n",
    "\n",
    "# Excel file\n",
    "excel = pd.ExcelFile('average_values.xlsx')\n",
    "\n",
    "# Which tensor map-brain region?\n",
    "df = excel.parse('fa-SP')\n",
    "\n",
    "# Identify VM subjects\n",
    "VM_rows = [3, 9, 54, 55, 140, 170]\n",
    "\n",
    "# 3 - 31.86 weeks\n",
    "# 9 - 32 weeks\n",
    "# 54 - 25.71 weeks\n",
    "# 55 - 33.29 weeks\n",
    "# 140 - 29.71 weeks\n",
    "# 170 - 29.57 weeks\n",
    "\n",
    "#VM_subjects = df[df.index.isin(VM_rows)]\n",
    "#normal_subjects = df[~df.index.isin(VM_rows)]\n",
    "\n",
    "# Split normal subjects by GA: 26, 30, 32, and 33\n",
    "# 26 GA - 25.50 - 26.49\n",
    "# 30 GA - 29.50 - 30.49\n",
    "# 32 GA - 31.50 - 32.49\n",
    "# 33 GA - 32.50 - 33.49\n",
    "\n",
    "GA_range = [\n",
    "    (26, 25.5, 26.49),\n",
    "    (30, 29.5, 30.49),\n",
    "    (32, 31.5, 32.49),\n",
    "    (33, 32.5, 33.49)\n",
    "]\n",
    "\n",
    "ga_ranges = [\n",
    "    (21, 20.50, 21.49),\n",
    "    (22 ,21.50, 22.49),\n",
    "    (23, 22.50, 23.49),\n",
    "    (24, 23.50, 24.49),\n",
    "    (25, 24.50, 25.49),\n",
    "    (26, 25.50, 26.49),\n",
    "    (27, 26.50, 27.49),\n",
    "    (28, 27.50, 28.49),\n",
    "    (29, 28.50, 29.49),\n",
    "    (30, 29.50, 30.49),\n",
    "    (31, 30.50, 31.49),\n",
    "    (32, 31.50, 32.49),\n",
    "    (33, 32.50, 33.49),\n",
    "    (34, 33.50, 34.49),\n",
    "    (35, 34.50, 35.49),\n",
    "    (36, 35.50, 36.49),\n",
    "    (37, 36.50, 37.49),\n",
    "    (38, 37.50, 38.49),\n",
    "]\n",
    "\n",
    "\n",
    "# Function to group subjects by GA\n",
    "def group_subjects(GA):\n",
    "    for label, lower, upper in GA_range:\n",
    "        if lower <= GA <= upper:\n",
    "            return f'{label} weeks'\n",
    "    return 'Other'\n",
    "    \n",
    "# Apply function to GA column in dataframe\n",
    "df['ga group'] = df['ga'].apply(group_subjects)\n",
    "\n",
    "# Group by gestational age and save each group to a dictionary\n",
    "grouped_data = {}\n",
    "for group_name, group_data in df.groupby('ga group'):\n",
    "# Calculate z scores for each GA: 26, 30, 32, and 33\n",
    "    group_data['z_scores'] = zscore(group_data['average'])\n",
    "    grouped_data[group_name] = group_data[['subject_name', 'ga', 'average', 'z_scores']]\n",
    "\n",
    "# Print the keys (group names) of the grouped data\n",
    "print(\"Group Names:\", grouped_data.keys())\n",
    "\n",
    "# Example: Accessing data for a specific group (e.g., '26 weeks')\n",
    "#print(\"Data for 32 weeks group:\")\n",
    "#print(grouped_data['Other'])\n",
    "#print(grouped_data)\n",
    "\n",
    "# Display the full DataFrame\n",
    "pd.set_option('display.max_rows', None)  # This will display all rows\n",
    "pd.set_option('display.max_columns', None)  # This will display all columns\n",
    "print(grouped_data['26 weeks'])"
   ]
  },
  {
   "cell_type": "code",
   "execution_count": 2,
   "id": "29a64fc6",
   "metadata": {},
   "outputs": [
    {
     "name": "stdout",
     "output_type": "stream",
     "text": [
      "Group: 26 weeks\n",
      "                 subject_name  z_scores\n",
      "54  sub-CC00960XX12_ses-23130 -0.108172\n",
      "Group: 30 weeks\n",
      "                   subject_name  z_scores\n",
      "140   sub-CC01141XX12_ses-99932 -0.505453\n",
      "170  sub-CC01202XX06_ses-142630  0.730575\n",
      "Group: 32 weeks\n",
      "               subject_name  z_scores\n",
      "3   sub-CC00865XX16_ses-621 -0.612789\n",
      "9  sub-CC00875XX18_ses-2521 -0.438978\n",
      "Group: 33 weeks\n",
      "                 subject_name  z_scores\n",
      "55  sub-CC00961XX13_ses-23830 -0.684408\n"
     ]
    }
   ],
   "source": [
    "# Filter and print z scores of VM subjects\n",
    "#VM_subjects = df[df.index.isin(VM_rows)]\n",
    "#print(VM_subjects[[\"subject_name\", \"z_scores\", \"ga\"]])\n",
    "\n",
    "# Find VM subject names\n",
    "VM_subject_names = df.loc[VM_rows, 'subject_name']\n",
    "\n",
    "# Print z-scores of VM subjects\n",
    "for group_name, group_data in grouped_data.items():\n",
    "    VM_subjects_in_group = group_data[group_data['subject_name'].isin(VM_subject_names)]\n",
    "    if not VM_subjects_in_group.empty:\n",
    "        print(f\"Group: {group_name}\")\n",
    "        print(VM_subjects_in_group[['subject_name', 'z_scores']])"
   ]
  },
  {
   "cell_type": "code",
   "execution_count": 3,
   "id": "2ab17613",
   "metadata": {},
   "outputs": [
    {
     "data": {
      "image/png": "[encoded data removed]",
      "text/plain": [
       "<Figure size 600x600 with 1 Axes>"
      ]
     },
     "metadata": {},
     "output_type": "display_data"
    }
   ],
   "source": [
    "# Visualising z scores\n",
    "plt.figure(figsize=(6, 6))\n",
    "plt.boxplot([group['z_scores'] for group in grouped_data.values()], labels=grouped_data.keys())\n",
    "plt.title('Z-Scores for Each Gestational Age Group')\n",
    "plt.xlabel('Gestational Age Group')\n",
    "plt.ylabel('Z-Score')\n",
    "plt.xticks(rotation=45)\n",
    "plt.grid(True)\n",
    "plt.show()"
   ]
  }
 ],
 "metadata": {
  "kernelspec": {
   "display_name": "Python 3 (ipykernel)",
   "language": "python",
   "name": "python3"
  },
  "language_info": {
   "codemirror_mode": {
    "name": "ipython",
    "version": 3
   },
   "file_extension": ".py",
   "mimetype": "text/x-python",
   "name": "python",
   "nbconvert_exporter": "python",
   "pygments_lexer": "ipython3",
   "version": "3.10.9"
  }
 },
 "nbformat": 4,
 "nbformat_minor": 5
}
