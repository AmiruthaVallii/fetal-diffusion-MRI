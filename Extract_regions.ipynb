{
 "cells": [
  {
   "cell_type": "markdown",
   "id": "c645afb6",
   "metadata": {},
   "source": [
    "# Extract label regions"
   ]
  },
  {
   "cell_type": "code",
   "execution_count": 9,
   "id": "6e60581b",
   "metadata": {},
   "outputs": [],
   "source": [
    "import os\n",
    "import numpy as np\n",
    "import nibabel as nib\n",
    "\n",
    "# Set current directory\n",
    "os.chdir('C:/Users/amu_k/subjects-mri-dwi/pre-processing-files')\n",
    "\n",
    "# Folder paths\n",
    "input_folder = 'tf-resampled'\n",
    "label_folder = 'joined-labels/WholeBrain-joined'\n",
    "\n",
    "output_folder = 'extracted-lab-regions/tf-extracted/TF-WholeBrain'\n",
    "\n",
    "# Extract label region\n",
    "input_files = os.listdir(input_folder)\n",
    "\n",
    "for file in input_files:\n",
    "    if file.endswith(('_masked.nii.gz','_fa_transformed.nii.gz', '_md__transformed.nii.gz','_fluid_fraction_transformed.nii.gz','_tissue_fraction_transformed.nii.gz')):\n",
    "        file_name = file.replace('_masked.nii.gz', '').replace('_fa_transformed.nii.gz', '').replace('_md__transformed.nii.gz', '').replace('_fluid_fraction_transformed.nii.gz', '').replace('_tissue_fraction_transformed.nii.gz', '')\n",
    "        file_path = os.path.join(input_folder, file)\n",
    "        \n",
    "        label_file_name = f'cnn-lab-{file_name}_masked_WholeBrain.nii.gz'\n",
    "        label_file_path = os.path.join(label_folder, label_file_name)\n",
    "        \n",
    "        output_file_path = os.path.join(output_folder, file_name + '-' + 'WholeBrain' + '.nii.gz')\n",
    "        \n",
    "        # Load input and label files\n",
    "        input_data = nib.load(file_path).get_fdata()\n",
    "                \n",
    "        try:\n",
    "            label_data = nib.load(label_file_path).get_fdata()\n",
    "        except FileNotFoundError:\n",
    "            print(f\"Label file not found: {label_file_path}\")\n",
    "            continue\n",
    "                \n",
    "        # Multiply input with label\n",
    "        output_data = input_data * label_data\n",
    "                \n",
    "        # Save output\n",
    "        output_nifti = nib.Nifti1Image(output_data, affine=None)\n",
    "        nib.save(output_nifti, output_file_path)                "
   ]
  }
 ],
 "metadata": {
  "kernelspec": {
   "display_name": "Python 3 (ipykernel)",
   "language": "python",
   "name": "python3"
  },
  "language_info": {
   "codemirror_mode": {
    "name": "ipython",
    "version": 3
   },
   "file_extension": ".py",
   "mimetype": "text/x-python",
   "name": "python",
   "nbconvert_exporter": "python",
   "pygments_lexer": "ipython3",
   "version": "3.10.9"
  }
 },
 "nbformat": 4,
 "nbformat_minor": 5
}
