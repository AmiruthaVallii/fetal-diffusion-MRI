{
 "cells": [
  {
   "cell_type": "code",
   "execution_count": 1,
   "id": "89667157",
   "metadata": {},
   "outputs": [
    {
     "name": "stdout",
     "output_type": "stream",
     "text": [
      "Average values calculated and saved successfully.\n"
     ]
    }
   ],
   "source": [
    "import os\n",
    "import numpy as np\n",
    "import nibabel as nib\n",
    "import pandas as pd\n",
    "\n",
    "# Function to calculate average value from MRI file\n",
    "def calculate_average(mri_file):\n",
    "    \n",
    "    # Load file and extract data\n",
    "    data = nib.load(mri_file).get_fdata()\n",
    "    \n",
    "    # Remove background indices (=0) from image\n",
    "    data = data[data > 0]\n",
    "    \n",
    "    # Calculate average value\n",
    "    average = np.mean(data)\n",
    "    \n",
    "    return average\n",
    "\n",
    "# Set current directory\n",
    "os.chdir('C:/Users/amu_k/subjects-mri-dwi/pre-processing-files/extracted-lab-regions')\n",
    "\n",
    "# Set input folder path\n",
    "input_folder = 'fa-extracted/FA-VZ_GE'\n",
    "\n",
    "# Set excel file path\n",
    "excel_file = 'dHCP-subjects-healthy-VM.xlsx'\n",
    "\n",
    "# Read excel file into pandas dataframe\n",
    "df = pd.read_excel(excel_file, header=None)\n",
    "\n",
    "# Create list to store results\n",
    "results = []\n",
    "\n",
    "# Iterate through files\n",
    "for filename in os.listdir(input_folder):\n",
    "    if filename.endswith(\".nii.gz\"):\n",
    "        \n",
    "        # Extract subject name from filename\n",
    "        subject_name = filename.split('-VZ_GE')[0]\n",
    "        \n",
    "        # Find corresponding row in dataframe\n",
    "        row = df.index[df[0] == subject_name].tolist()\n",
    "        if row:\n",
    "            ga = df.iloc[row[0], 1]\n",
    "            \n",
    "            # Calculate average\n",
    "            mri_file_path = os.path.join(input_folder, filename)\n",
    "            average = calculate_average(mri_file_path)\n",
    "            \n",
    "            # Append to results list\n",
    "            results.append([subject_name, ga, average])\n",
    "\n",
    "# Create dataframe from results list\n",
    "result_df = pd.DataFrame(results, columns=['subject_name', 'ga', 'average'])\n",
    "\n",
    "# Save result to excel file\n",
    "#result_excel = 'average_values.xlsx'\n",
    "#result_df.to_excel(result_excel, index=False)\n",
    "\n",
    "# Save result to excel file\n",
    "result_excel = 'average_values.xlsx'\n",
    "\n",
    "# Create ExcelWriter object to append to existing Excel file\n",
    "with pd.ExcelWriter(result_excel, mode='a') as writer:\n",
    "    \n",
    "    # Write dataframe to excel file in a new sheet\n",
    "    result_df.to_excel(writer, sheet_name='fa-VZ_GE_2', index=False)\n",
    "\n",
    "print(\"Average values calculated and saved successfully.\")"
   ]
  }
 ],
 "metadata": {
  "kernelspec": {
   "display_name": "Python 3 (ipykernel)",
   "language": "python",
   "name": "python3"
  },
  "language_info": {
   "codemirror_mode": {
    "name": "ipython",
    "version": 3
   },
   "file_extension": ".py",
   "mimetype": "text/x-python",
   "name": "python",
   "nbconvert_exporter": "python",
   "pygments_lexer": "ipython3",
   "version": "3.10.9"
  }
 },
 "nbformat": 4,
 "nbformat_minor": 5
}
